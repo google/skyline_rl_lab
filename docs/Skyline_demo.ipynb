{
 "cells": [
  {
   "cell_type": "markdown",
   "id": "cb46b132-bb10-473b-b6bc-aca5ce4d7f6b",
   "metadata": {},
   "source": [
    "## <font color='darkblue'><b>Preface</b></font>\n",
    "Here we are going to use a toy testing environment `GridWorld` to demonstrate the usage of this lab."
   ]
  },
  {
   "cell_type": "markdown",
   "id": "445337c7-687d-4cb3-bafe-612a9f93a653",
   "metadata": {},
   "source": [
    "### <font color='darkgreen'>Importing Packages</font>\n",
    "Firstly, let's import all the necessary packages:"
   ]
  },
  {
   "cell_type": "code",
   "execution_count": 1,
   "id": "ae3452e3-97c2-4c19-a9f9-7f1cc8ebba50",
   "metadata": {},
   "outputs": [],
   "source": [
    "import pandas as pd\n",
    "import seaborn as sns\n",
    "from pprint import pprint\n",
    "\n",
    "from skyline import lab\n",
    "from skyline.lab import gridworld_env\n",
    "from skyline.lab import gridworld_utils\n",
    "from skyline.alg import monte_carlo\n",
    "from skyline.alg import random_rl"
   ]
  },
  {
   "cell_type": "markdown",
   "id": "f66acb67-2a60-45c3-b2cb-020eff445950",
   "metadata": {},
   "source": [
    "### <font color='darkgreen'>A classic RL environment</font>\n",
    "From a classic RL problem, it is composed of below component:\n",
    "![RL diagram](images/skyline_demo_1.PNG)"
   ]
  },
  {
   "cell_type": "markdown",
   "id": "e65754f2-3778-4ba1-af9b-8798ea98e6d3",
   "metadata": {},
   "source": [
    "### <font color='darkgreen'>Make Lab Environment</font>\n",
    "We can list supported environment as below:"
   ]
  },
  {
   "cell_type": "code",
   "execution_count": 2,
   "id": "42378c36-f6db-4bb1-94bf-7fd4948257b7",
   "metadata": {},
   "outputs": [
    {
     "name": "stdout",
     "output_type": "stream",
     "text": [
      "===== GridWorld =====\n",
      "This is a environment to show case of Skyline lab. The environment is a grid world where you can move up, down, right and left if you don't encounter obstacle. When you obtain the reward (-1, 1, 2), the game is over. You can use env.info() to learn more.\n",
      "\n",
      "===== BCSTWorld =====\n",
      "This is a environment designed for BCST testing to select test cases so to compose optimal execution sequence so to catch crash/ramdump as much as possible.\n",
      "\n",
      "\n"
     ]
    }
   ],
   "source": [
    "lab.list_env()"
   ]
  },
  {
   "cell_type": "markdown",
   "id": "41350177-a4d7-4d30-ab51-1d08db2c9eb2",
   "metadata": {},
   "source": [
    "Then We use function <font color='blue'>`make`</font> to obtain the desired environment. e.g. <font color='blue'><b>GridWorldEnvironment</b></font>:"
   ]
  },
  {
   "cell_type": "code",
   "execution_count": 3,
   "id": "8eba388a-fbfc-460a-8b90-d65eae12330b",
   "metadata": {},
   "outputs": [],
   "source": [
    "grid_env = lab.make(lab.Env.GridWorld)"
   ]
  },
  {
   "cell_type": "markdown",
   "id": "255972ab-beac-417f-ab94-35faf570baee",
   "metadata": {},
   "source": [
    "From Skyline, all environments need to inherit from this class <b><font color='blue'>Environment(Protocol)</font></b>. Here we are going to examine some methods expected or required from a Skyline environment:"
   ]
  },
  {
   "cell_type": "markdown",
   "id": "a11ac5cf-ea46-408f-8846-8babee0e3151",
   "metadata": {},
   "source": [
    "#### <b><font color='blue'>info</font></b>: Gets environment information.\n",
    "We use method `info` to obtain description of current environment for ML engineers to know what kind of problem they are dealing with."
   ]
  },
  {
   "cell_type": "code",
   "execution_count": 4,
   "id": "26bb5c3a-e4f2-4780-91ad-0d0c84dbd8d5",
   "metadata": {},
   "outputs": [
    {
     "name": "stdout",
     "output_type": "stream",
     "text": [
      "- environment is a grid world\n",
      "- x means you can't go there\n",
      "- s means start position\n",
      "- number means reward at that state\n",
      "===========\n",
      ".  .  .  1\n",
      ".  x  . -1\n",
      ".  .  .  x\n",
      "s  x  .  2\n",
      "===========\n",
      "\n"
     ]
    }
   ],
   "source": [
    "# Check what our environment looks like:\n",
    "grid_env.info()"
   ]
  },
  {
   "cell_type": "markdown",
   "id": "87c63fb2-34c2-476e-a0de-58c69099f32f",
   "metadata": {},
   "source": [
    "#### <b><font color='blue'>available_actions/available_actions_from_current_state</font></b>: Gets available actions supported by the environment\n",
    "We use method `available_actions` to learn what actions agent could take to interact with the environment."
   ]
  },
  {
   "cell_type": "code",
   "execution_count": 5,
   "id": "ae1c8aec-52e2-41fe-92b5-c1ea36f285b7",
   "metadata": {},
   "outputs": [
    {
     "data": {
      "text/plain": [
       "['U', 'D', 'L', 'R']"
      ]
     },
     "execution_count": 5,
     "metadata": {},
     "output_type": "execute_result"
    }
   ],
   "source": [
    "# Show available actions\n",
    "grid_env.available_actions()"
   ]
  },
  {
   "cell_type": "code",
   "execution_count": 6,
   "id": "87b54053-6427-49d2-b245-8081b5550c56",
   "metadata": {},
   "outputs": [
    {
     "data": {
      "text/plain": [
       "GridState(i=3, j=0)"
      ]
     },
     "execution_count": 6,
     "metadata": {},
     "output_type": "execute_result"
    }
   ],
   "source": [
    "# Get current state\n",
    "grid_env.current_state"
   ]
  },
  {
   "cell_type": "code",
   "execution_count": 7,
   "id": "5a438964-559e-43a3-a31f-36935e5216bd",
   "metadata": {},
   "outputs": [
    {
     "data": {
      "text/plain": [
       "('U', 'D', 'R')"
      ]
     },
     "execution_count": 7,
     "metadata": {},
     "output_type": "execute_result"
    }
   ],
   "source": [
    "grid_env.reset()\n",
    "\n",
    "# Take action 'Up'\n",
    "grid_env.step('U')\n",
    "\n",
    "grid_env.available_actions_from_current_state()"
   ]
  },
  {
   "cell_type": "markdown",
   "id": "ee282913-7ba3-43a6-bd41-52161f05f142",
   "metadata": {},
   "source": [
    "#### <b><font color='blue'>step</font></b>: Takes action in the environment.\n",
    "The agent use method `step` to interact with the environment. Let's take a action and check the state change:"
   ]
  },
  {
   "cell_type": "code",
   "execution_count": 8,
   "id": "44eae9e7-ccec-4db1-ac58-a0cb5787638b",
   "metadata": {},
   "outputs": [
    {
     "data": {
      "text/plain": [
       "GridState(i=1, j=0)"
      ]
     },
     "execution_count": 8,
     "metadata": {},
     "output_type": "execute_result"
    }
   ],
   "source": [
    "# Take action 'Up'\n",
    "grid_env.step('U')\n",
    "\n",
    "# Check current state\n",
    "grid_env.current_state"
   ]
  },
  {
   "cell_type": "markdown",
   "id": "d804e7bb-0f7b-4014-8175-6b0e8c088473",
   "metadata": {},
   "source": [
    "After taking action `U`, we expect the axis-i to move up from 2->1 and we can confirm it from the output state. Let's reset the environment by calling method <font color='blue'>reset</font> which will bring the state of environment back to intial state `GridState(i=3, j=0)`:"
   ]
  },
  {
   "cell_type": "code",
   "execution_count": 9,
   "id": "7b387216-096d-4bfc-ad07-795f2ec431b9",
   "metadata": {},
   "outputs": [
    {
     "data": {
      "text/plain": [
       "GridState(i=3, j=0)"
      ]
     },
     "execution_count": 9,
     "metadata": {},
     "output_type": "execute_result"
    }
   ],
   "source": [
    "# Reset environment\n",
    "grid_env.reset()\n",
    "\n",
    "# Check current state\n",
    "grid_env.current_state"
   ]
  },
  {
   "cell_type": "markdown",
   "id": "2b9fd657-6ff8-4657-b786-af875014b611",
   "metadata": {},
   "source": [
    "#### <b><font color='blue'>render</font></b>: Show the environment at current state.\n",
    "The `render` method can be used to present the environment in a human-readable format."
   ]
  },
  {
   "cell_type": "code",
   "execution_count": 10,
   "id": "d9533a06-9b7b-416c-aa2c-8bc003279319",
   "metadata": {},
   "outputs": [
    {
     "name": "stdout",
     "output_type": "stream",
     "text": [
      "  .  .  .  1\n",
      "  .  x  . -1\n",
      "  .  .  .  x\n",
      "  s  x  .  2\n",
      "\n"
     ]
    }
   ],
   "source": [
    "grid_env.render()"
   ]
  },
  {
   "cell_type": "code",
   "execution_count": 11,
   "id": "2c8f198d-21b9-4a2e-979d-7287f8b3661a",
   "metadata": {},
   "outputs": [
    {
     "name": "stdout",
     "output_type": "stream",
     "text": [
      "  .  .  .  1\n",
      "  .  x  . -1\n",
      "  +  .  .  x\n",
      "  s  x  .  2\n",
      "\n"
     ]
    }
   ],
   "source": [
    "# Take action 'Up'\n",
    "grid_env.step('U')\n",
    "\n",
    "grid_env.render()"
   ]
  },
  {
   "cell_type": "markdown",
   "id": "a0a2ab45-566d-41b1-86d9-b4f9563274b1",
   "metadata": {},
   "source": [
    "## <font color='darkblue'><b>Experiments of RL algorithms</b></font>\n",
    "Here we are going to test some well-known RL algorithms and demonstrate the usage in apply them to tackle the environment (problem)."
   ]
  },
  {
   "cell_type": "markdown",
   "id": "955d7834-e7ef-4964-831d-106c780d4f2c",
   "metadata": {},
   "source": [
    "<a id='rl_alg_monte_carlo'></a>\n",
    "### <font color='darkgreen'>Monte Carlo Method</font>\n",
    "<b>In this method, we simply simulate many trajectories ([decision processes](https://docs.google.com/presentation/d/1pvKFeIMouBd0Hm0znV5DP9B3xcT2LL6hraXQR7OKYBo/edit?resourcekey=0-xw_mVtLG4xylui6VmBcReA&disco=AAAAtSXswtU)), and calculate the average returns.</b> ([wiki page](https://en.wikiversity.org/wiki/Reinforcement_Learning#Monte_Carlo_policy_evaluation))\n",
    "\n",
    "We implement this algorithm in [`monte_carlo.py`](https://github.com/google/skyline_rl_lab/blob/main/skyline/alg/monte_carlo.py). The code below will demonstrate the usage of it:"
   ]
  },
  {
   "cell_type": "code",
   "execution_count": 12,
   "id": "2d5edf1a-9286-4a9d-916a-cc3117146d81",
   "metadata": {},
   "outputs": [],
   "source": [
    "# Initializes our RL algorithm/approach\n",
    "mc_alg = monte_carlo.MonteCarlo()"
   ]
  },
  {
   "cell_type": "code",
   "execution_count": 13,
   "id": "14c18e17-677f-42d3-b174-e9471507a813",
   "metadata": {},
   "outputs": [
    {
     "name": "stdout",
     "output_type": "stream",
     "text": [
      "- environment is a grid world\n",
      "- x means you can't go there\n",
      "- s means start position\n",
      "- number means reward at that state\n",
      "===========\n",
      ".  .  .  1\n",
      ".  x  . -1\n",
      ".  .  .  x\n",
      "s  x  .  2\n",
      "===========\n",
      "\n"
     ]
    }
   ],
   "source": [
    "# Shows the environment we are going to learn.\n",
    "grid_env.info()"
   ]
  },
  {
   "cell_type": "code",
   "execution_count": 14,
   "id": "dd8873bd-743b-4757-90dd-6038ea003174",
   "metadata": {},
   "outputs": [
    {
     "data": {
      "text/plain": [
       "'U'"
      ]
     },
     "execution_count": 14,
     "metadata": {},
     "output_type": "execute_result"
    }
   ],
   "source": [
    "# Show random available from given state in the target environment\n",
    "grid_env.random_action(gridworld_env.GridState(1, 0))"
   ]
  },
  {
   "cell_type": "markdown",
   "id": "3fdb7d74-c429-4113-a66f-6a2e282767eb",
   "metadata": {},
   "source": [
    "#### <b>Training</b>\n",
    "To start training, we pass the environment object into the <font color='blue'>`fit`</font> method of the RL algorithm specified in the Skyline protocol [`RLAlgorithmProto`](https://source.corp.google.com/piper///depot/google3/wireless/android/pixel/testing/skyline/rl_protos.py?q=class:RLAlgorithmProto)."
   ]
  },
  {
   "cell_type": "code",
   "execution_count": 15,
   "id": "8f60cb36-0e9a-4598-aee4-42dff0fa3985",
   "metadata": {},
   "outputs": [
    {
     "name": "stderr",
     "output_type": "stream",
     "text": [
      "100%|███████████████████████████████████████████████████████████████████████████████████████████████████████████| 10000/10000 [00:02<00:00, 3342.49it/s]"
     ]
    },
    {
     "name": "stdout",
     "output_type": "stream",
     "text": [
      "CPU times: user 2.95 s, sys: 192 ms, total: 3.14 s\n",
      "Wall time: 3 s\n"
     ]
    },
    {
     "name": "stderr",
     "output_type": "stream",
     "text": [
      "\n"
     ]
    }
   ],
   "source": [
    "%%time\n",
    "# Training\n",
    "mc_alg.fit(grid_env)"
   ]
  },
  {
   "cell_type": "markdown",
   "id": "260a029c-61da-4710-b472-708ec6a93706",
   "metadata": {},
   "source": [
    "Let's check what [`value function`](https://en.wikipedia.org/wiki/Reinforcement_learning#Value_function) we get:"
   ]
  },
  {
   "cell_type": "code",
   "execution_count": 16,
   "id": "d92cbb98-a7da-4abd-b8b6-29b03f59f5f3",
   "metadata": {},
   "outputs": [
    {
     "name": "stdout",
     "output_type": "stream",
     "text": [
      "---------------------------\n",
      " 1.18| 1.31| 1.46| 1.00|\n",
      "---------------------------\n",
      " 1.31| 0.00| 1.62|-1.00|\n",
      "---------------------------\n",
      " 1.46| 1.62| 1.80| 0.00|\n",
      "---------------------------\n",
      " 1.31| 0.00| 2.00| 2.00|\n"
     ]
    }
   ],
   "source": [
    "gridworld_utils.print_values(mc_alg._state_2_value, grid_env)"
   ]
  },
  {
   "cell_type": "markdown",
   "id": "41f4bc9f-aee0-4aab-a303-8676ba59d80f",
   "metadata": {},
   "source": [
    "Next, let's print the learned [`policy`](https://en.wikipedia.org/wiki/Reinforcement_learning#Policy):"
   ]
  },
  {
   "cell_type": "code",
   "execution_count": 17,
   "id": "51ec6c22-49b2-4db4-bb4e-5e7d51592c78",
   "metadata": {},
   "outputs": [
    {
     "name": "stdout",
     "output_type": "stream",
     "text": [
      "---------------------------\n",
      "  D  |  R  |  D  |  ?  |\n",
      "---------------------------\n",
      "  D  |  x  |  D  |  ?  |\n",
      "---------------------------\n",
      "  R  |  R  |  D  |  x  |\n",
      "---------------------------\n",
      "  U  |  x  |  R  |  ?  |\n"
     ]
    }
   ],
   "source": [
    "gridworld_utils.print_policy(mc_alg._policy, grid_env)"
   ]
  },
  {
   "cell_type": "markdown",
   "id": "eab538d0-1c7d-44f6-b13f-d1b63c758133",
   "metadata": {},
   "source": [
    "#### <b>Playing</b>\n",
    "Finally, let's reset the environment and play the game:"
   ]
  },
  {
   "cell_type": "code",
   "execution_count": 18,
   "id": "fa3b2e34-1a75-4ac3-8c80-3c1fdd8a101d",
   "metadata": {},
   "outputs": [
    {
     "name": "stdout",
     "output_type": "stream",
     "text": [
      "Begin state=GridState(i=3, j=0)\n",
      "ActionResult(action=np.str_('U'), state=GridState(i=2, j=0), reward=0, is_done=False, is_truncated=False, info=None)\n",
      "ActionResult(action=np.str_('R'), state=GridState(i=2, j=1), reward=0, is_done=False, is_truncated=False, info=None)\n",
      "ActionResult(action=np.str_('R'), state=GridState(i=2, j=2), reward=0, is_done=False, is_truncated=False, info=None)\n",
      "ActionResult(action=np.str_('D'), state=GridState(i=3, j=2), reward=0, is_done=False, is_truncated=False, info=None)\n",
      "ActionResult(action=np.str_('R'), state=GridState(i=3, j=3), reward=2, is_done=True, is_truncated=False, info=None)\n",
      "Final reward=2 with 5 step(s)\n"
     ]
    }
   ],
   "source": [
    "# Play game util done\n",
    "grid_env.reset()\n",
    "\n",
    "print(f'Begin state={grid_env.current_state}')\n",
    "step_count = 0\n",
    "while not grid_env.is_done:\n",
    "    result = mc_alg.play(grid_env)\n",
    "    step_count += 1\n",
    "    print(result)\n",
    "\n",
    "print(f'Final reward={result.reward} with {step_count} step(s)')"
   ]
  },
  {
   "cell_type": "markdown",
   "id": "c23b2abe-2f05-411a-889c-2c93a73f9791",
   "metadata": {},
   "source": [
    "<a id='rl_alg_random'></a>\n",
    "### <font color='darkgreen'>Random Method (Baseline)</font>\n",
    "This method **[`RandomRL`](https://github.com/google/skyline_rl_lab/blob/main/skyline/alg/random_rl.py#L22)** takes random action in the given environment. It is often used as a based line to evaluate other RL methods."
   ]
  },
  {
   "cell_type": "code",
   "execution_count": 19,
   "id": "23509cd5-845c-435f-9642-9c173c0b4bc4",
   "metadata": {},
   "outputs": [],
   "source": [
    "# Initializes RL algorithm/approach\n",
    "random_alg = random_rl.RandomRL()"
   ]
  },
  {
   "cell_type": "markdown",
   "id": "53346153-67e1-4267-b1f7-39eef2e8408f",
   "metadata": {},
   "source": [
    "#### <b>Training</b>\n",
    "Random won't require any training and therefore below call should end in no time."
   ]
  },
  {
   "cell_type": "code",
   "execution_count": 20,
   "id": "bf2d8d65-19b4-4e06-8491-9a80215a915c",
   "metadata": {},
   "outputs": [
    {
     "name": "stdout",
     "output_type": "stream",
     "text": [
      "CPU times: user 6 μs, sys: 0 ns, total: 6 μs\n",
      "Wall time: 12.4 μs\n"
     ]
    }
   ],
   "source": [
    "%%time\n",
    "# Training\n",
    "random_alg.fit(grid_env)"
   ]
  },
  {
   "cell_type": "markdown",
   "id": "26b1283e-b470-487c-b96a-f760a3acb2bf",
   "metadata": {},
   "source": [
    "#### <b>Playing</b>\n",
    "Since this is a random process, each time you play the game will have difference result:"
   ]
  },
  {
   "cell_type": "code",
   "execution_count": 21,
   "id": "0e751a00-7750-4c4b-99c1-4a69c5899fca",
   "metadata": {},
   "outputs": [
    {
     "name": "stdout",
     "output_type": "stream",
     "text": [
      "Begin state=GridState(i=3, j=0)\n",
      "ActionResult(action='U', state=GridState(i=2, j=0), reward=0, is_done=False, is_truncated=False, info=None)\n",
      "ActionResult(action='D', state=GridState(i=3, j=0), reward=0, is_done=False, is_truncated=False, info=None)\n",
      "ActionResult(action='U', state=GridState(i=2, j=0), reward=0, is_done=False, is_truncated=False, info=None)\n",
      "ActionResult(action='D', state=GridState(i=3, j=0), reward=0, is_done=False, is_truncated=False, info=None)\n",
      "ActionResult(action='U', state=GridState(i=2, j=0), reward=0, is_done=False, is_truncated=False, info=None)\n",
      "ActionResult(action='U', state=GridState(i=1, j=0), reward=0, is_done=False, is_truncated=False, info=None)\n",
      "ActionResult(action='U', state=GridState(i=0, j=0), reward=0, is_done=False, is_truncated=False, info=None)\n",
      "ActionResult(action='R', state=GridState(i=0, j=1), reward=0, is_done=False, is_truncated=False, info=None)\n",
      "ActionResult(action='R', state=GridState(i=0, j=2), reward=0, is_done=False, is_truncated=False, info=None)\n",
      "ActionResult(action='D', state=GridState(i=1, j=2), reward=0, is_done=False, is_truncated=False, info=None)\n",
      "ActionResult(action='U', state=GridState(i=0, j=2), reward=0, is_done=False, is_truncated=False, info=None)\n",
      "ActionResult(action='L', state=GridState(i=0, j=1), reward=0, is_done=False, is_truncated=False, info=None)\n",
      "ActionResult(action='L', state=GridState(i=0, j=0), reward=0, is_done=False, is_truncated=False, info=None)\n",
      "ActionResult(action='R', state=GridState(i=0, j=1), reward=0, is_done=False, is_truncated=False, info=None)\n",
      "ActionResult(action='R', state=GridState(i=0, j=2), reward=0, is_done=False, is_truncated=False, info=None)\n",
      "ActionResult(action='R', state=GridState(i=0, j=3), reward=1, is_done=True, is_truncated=False, info=None)\n",
      "Final reward=1 with 16 step(s)\n"
     ]
    }
   ],
   "source": [
    "# Play game util done\n",
    "grid_env.reset()\n",
    "\n",
    "print(f'Begin state={grid_env.current_state}')\n",
    "step_count = 0\n",
    "while not grid_env.is_done:\n",
    "    result = random_alg.play(grid_env)\n",
    "    step_count += 1\n",
    "    print(result)\n",
    "print(f'Final reward={result.reward} with {step_count} step(s)')"
   ]
  },
  {
   "cell_type": "markdown",
   "id": "01dfa9a9-f389-406e-afd2-6996eb459231",
   "metadata": {},
   "source": [
    "From the result above, it is obvious that the [**Monte Carlo Method**](#rl_alg_monte_carlo) performs much better than the [**Random Method**](#rl_alg_random)!"
   ]
  },
  {
   "cell_type": "markdown",
   "id": "88f3a404-0406-4d6b-ad2c-c184d639b99e",
   "metadata": {},
   "source": [
    "## <font color='darkblue'><b>How to rank RL methods</b></font>\n",
    "Before we can explain how the scoreboard works, we need to understand **[RLExaminer](https://github.com/google/skyline_rl_lab/blob/main/skyline/rl_protos.py#L106)** first. In short, the scoreboard is a tool designed to help you rank different RL methods."
   ]
  },
  {
   "cell_type": "markdown",
   "id": "0b540796-b91e-443e-b5e6-5029c5574961",
   "metadata": {},
   "source": [
    "### <font color='darkgreen'><b>RLExaminer</b></font>\n",
    "Each environment can have more than one <b><font color='darkblue'>examiner</font></b> to calculate the score of an RL method. Each examiner may have its own criteria for evaluating the RL method (<font color='brown'>time, reward, etc.</font>). Let's take a look at one examiner that is used to calculate the average reward of a grid environment."
   ]
  },
  {
   "cell_type": "code",
   "execution_count": 22,
   "id": "d0a7230f-bcb5-4739-bb6c-758df7358040",
   "metadata": {},
   "outputs": [],
   "source": [
    "# This examiner considers both reward and number of steps.\n",
    "examiner = gridworld_env.GridWorldExaminer()"
   ]
  },
  {
   "cell_type": "markdown",
   "id": "dce2382f-8cdd-40e6-bec0-99f84053477c",
   "metadata": {},
   "source": [
    "Then, what's score of [Monte Carlo Method](#rl_alg_monte_carlo):"
   ]
  },
  {
   "cell_type": "code",
   "execution_count": 23,
   "id": "20d5d930-7558-4b44-9b68-49637a0ea4e0",
   "metadata": {},
   "outputs": [
    {
     "data": {
      "text/plain": [
       "(0.4, [0.4])"
      ]
     },
     "execution_count": 23,
     "metadata": {},
     "output_type": "execute_result"
    }
   ],
   "source": [
    "# Monte Carlo will get reward 2 by taking 5 steps.\n",
    "# So the score will be reward / steps: 2 / 5 = 0.4\n",
    "examiner.score(\n",
    "  rl_method = mc_alg,\n",
    "  env = grid_env)"
   ]
  },
  {
   "cell_type": "markdown",
   "id": "9b78be80-f62b-4153-9b89-d2a8022e09d2",
   "metadata": {},
   "source": [
    "Monte Carlo method got score 0.4. Let's check another RL method [Random Method](#rl_alg_random):"
   ]
  },
  {
   "cell_type": "code",
   "execution_count": 24,
   "id": "d3f62e39-a211-49bc-b20b-0bad6de1dbb7",
   "metadata": {},
   "outputs": [
    {
     "data": {
      "text/plain": [
       "(0.05, [0.05])"
      ]
     },
     "execution_count": 24,
     "metadata": {},
     "output_type": "execute_result"
    }
   ],
   "source": [
    "# The number of steps required by random RL method is unknown.\n",
    "# Also the best reward is not guaranteed. So the score here will be random.\n",
    "examiner.score(random_alg, grid_env)"
   ]
  },
  {
   "cell_type": "markdown",
   "id": "e52a4b3b-622e-4149-ad27-f11be6c3257f",
   "metadata": {},
   "source": [
    "It is expected that the random RL method, as a baseline, will receive a lower score than the Monte Carlo method."
   ]
  },
  {
   "cell_type": "markdown",
   "id": "83e9f312-ee18-4eda-a0fb-d7733e959a2d",
   "metadata": {},
   "source": [
    "### <font color='darkgreen'><b>Scoreboard</b></font>\n",
    "The scoreboard literally calculates the scores of given RL methods according to the specific examiner and then ranks those RL methods accordingly. For example:"
   ]
  },
  {
   "cell_type": "code",
   "execution_count": 25,
   "id": "9342fe70-8d01-4873-b598-aa1841f5f61f",
   "metadata": {},
   "outputs": [
    {
     "name": "stdout",
     "output_type": "stream",
     "text": [
      "+-------+------------+----------------+\n",
      "| Rank. |  RL Name   |     Score      |\n",
      "+-------+------------+----------------+\n",
      "|   1   | MonteCarlo |  (0.4, [0.4])  |\n",
      "|   2   |  RandomRL  | (0.13, [0.13]) |\n",
      "+-------+------------+----------------+\n"
     ]
    }
   ],
   "source": [
    "score_board = lab.Scoreboard()\n",
    "sorted_scores  = score_board.rank(\n",
    "    examiner = examiner,\n",
    "    env = grid_env,\n",
    "    rl_methods = [random_alg, mc_alg],\n",
    "    show_ranking_in_console=True)"
   ]
  },
  {
   "cell_type": "markdown",
   "id": "37ddb12d-54ef-4c25-be6f-497843c7a363",
   "metadata": {},
   "source": [
    "## <font color='darkblue'><b>Real world example - BCST 2.0</b></font>\n",
    "Each project owner can wrap up their RL problem in an Environment so that ML people can figure out the best approach to solve it. For example, the **[BCST](go/bt-combination-test)** environment **[`BCSTEnvironment`](https://github.com/google/skyline_rl_lab/blob/main/skyline/lab/bcst_tc_env.py#L59)** is a specific type of environment/problem we would like to resolve from our team:"
   ]
  },
  {
   "cell_type": "markdown",
   "id": "f457b891-5647-43c3-a29a-1feb985a9e64",
   "metadata": {},
   "source": [
    "### <font color='darkgreen'>Explore the environment</font>"
   ]
  },
  {
   "cell_type": "code",
   "execution_count": 26,
   "id": "9ea046f1-8e5f-4a02-ab4e-0d7d9c056e2d",
   "metadata": {},
   "outputs": [],
   "source": [
    "import matplotlib.pyplot as plt\n",
    "from skyline.lab import bcst_tc_env"
   ]
  },
  {
   "cell_type": "markdown",
   "id": "402ff46a-f7b1-4d0d-8e3a-51edeb97d4a1",
   "metadata": {},
   "source": [
    "Let's initialize the environment and show info of it:"
   ]
  },
  {
   "cell_type": "code",
   "execution_count": 27,
   "id": "7d8682f3-f7ad-4893-b4f6-bbcf99a6f437",
   "metadata": {},
   "outputs": [
    {
     "name": "stdout",
     "output_type": "stream",
     "text": [
      "- Environment as BCST testing environment.\n",
      "- You can set attribute `round_num` of environment to decide the max round  of execution.\n",
      "- Each action is a test case to select.\n",
      "- State is the sequence of last executed test case sequence.\n",
      "- A reward equal to 1 means the execution resulted in a crash/ramdump or 0 means nothing was caught.\n"
     ]
    }
   ],
   "source": [
    "bcst_env = bcst_tc_env.BCSTEnvironment()\n",
    "bcst_env.info()"
   ]
  },
  {
   "cell_type": "markdown",
   "id": "2e392784-669d-4849-b953-bbbdbe5038ff",
   "metadata": {},
   "source": [
    "The Skyline environment implements predefined methods that an RL agent can use to interact with and learn from it. This allows the agent to accumulate knowledge on how to maximize the reward it receives from the environment.\n",
    "\n",
    "Let's use the Monte Carlo method to demonstrate this process."
   ]
  },
  {
   "cell_type": "markdown",
   "id": "36c66366-7df8-4414-ac49-51e31d59f0d4",
   "metadata": {},
   "source": [
    "### <font color='darkgreen'>Baselin: Monte Carlo</font>"
   ]
  },
  {
   "cell_type": "code",
   "execution_count": 28,
   "id": "24cdb75b-89dd-4c11-b0c3-b78562b8ba0f",
   "metadata": {},
   "outputs": [],
   "source": [
    "mc_alg_r100 = monte_carlo.MonteCarlo(name='r100', round_num=100)\n",
    "mc_alg_r200 = monte_carlo.MonteCarlo(name='r200', round_num=200)\n",
    "mc_alg_r1000 = monte_carlo.MonteCarlo(name='r1000', round_num=1000)"
   ]
  },
  {
   "cell_type": "code",
   "execution_count": 29,
   "id": "8398bd97-9a13-4233-8e67-5b711ae306d0",
   "metadata": {},
   "outputs": [
    {
     "name": "stderr",
     "output_type": "stream",
     "text": [
      "100%|████████████████████████████████████████████████████████████████████████████████████████████████████████████████| 100/100 [00:00<00:00, 422.03it/s]"
     ]
    },
    {
     "name": "stdout",
     "output_type": "stream",
     "text": [
      "CPU times: user 227 ms, sys: 35.7 ms, total: 263 ms\n",
      "Wall time: 244 ms\n"
     ]
    },
    {
     "name": "stderr",
     "output_type": "stream",
     "text": [
      "\n"
     ]
    }
   ],
   "source": [
    "%%time\n",
    "mc_alg_r100.fit(bcst_env)"
   ]
  },
  {
   "cell_type": "code",
   "execution_count": 30,
   "id": "2b86127f-a536-4b32-b684-737566b1507d",
   "metadata": {},
   "outputs": [
    {
     "name": "stderr",
     "output_type": "stream",
     "text": [
      "100%|████████████████████████████████████████████████████████████████████████████████████████████████████████████████| 200/200 [00:00<00:00, 454.62it/s]"
     ]
    },
    {
     "name": "stdout",
     "output_type": "stream",
     "text": [
      "CPU times: user 444 ms, sys: 16.2 ms, total: 460 ms\n",
      "Wall time: 446 ms\n"
     ]
    },
    {
     "name": "stderr",
     "output_type": "stream",
     "text": [
      "\n"
     ]
    }
   ],
   "source": [
    "%%time\n",
    "mc_alg_r200.fit(bcst_env)"
   ]
  },
  {
   "cell_type": "code",
   "execution_count": 31,
   "id": "2c59bd13-81f3-4214-b16e-700a98d17999",
   "metadata": {},
   "outputs": [
    {
     "name": "stderr",
     "output_type": "stream",
     "text": [
      "100%|██████████████████████████████████████████████████████████████████████████████████████████████████████████████| 1000/1000 [00:02<00:00, 445.44it/s]"
     ]
    },
    {
     "name": "stdout",
     "output_type": "stream",
     "text": [
      "CPU times: user 2.19 s, sys: 168 ms, total: 2.35 s\n",
      "Wall time: 2.25 s\n"
     ]
    },
    {
     "name": "stderr",
     "output_type": "stream",
     "text": [
      "\n"
     ]
    }
   ],
   "source": [
    "%%time\n",
    "mc_alg_r1000.fit(bcst_env)"
   ]
  },
  {
   "cell_type": "code",
   "execution_count": 32,
   "id": "418dce8b-24ef-4bb8-a4c4-d1ec0902e208",
   "metadata": {},
   "outputs": [],
   "source": [
    "bcst_examiner = bcst_tc_env.BCSTRewardCountExaminer()\n",
    "score, r100_data = bcst_examiner.score(\n",
    "    mc_alg_r100, bcst_env, play_round=15)"
   ]
  },
  {
   "cell_type": "code",
   "execution_count": 33,
   "id": "f041586f-278b-47b3-96c7-3234b1a6ea31",
   "metadata": {},
   "outputs": [],
   "source": [
    "score, r200_data = bcst_examiner.score(\n",
    "    mc_alg_r200, bcst_env, play_round=15)"
   ]
  },
  {
   "cell_type": "code",
   "execution_count": 34,
   "id": "f0f81fff-0885-485b-973c-db4c86df657b",
   "metadata": {},
   "outputs": [],
   "source": [
    "score, r1000_data = bcst_examiner.score(\n",
    "    mc_alg_r1000, bcst_env, play_round=20)"
   ]
  },
  {
   "cell_type": "code",
   "execution_count": 35,
   "id": "7d23378d-4584-4d23-a3c3-4c4bb764a5a3",
   "metadata": {},
   "outputs": [
    {
     "data": {
      "text/plain": [
       "<Axes: title={'center': 'RL method (Monte Carlo) on environment BCST test case execution simulator'}>"
      ]
     },
     "execution_count": 35,
     "metadata": {},
     "output_type": "execute_result"
    },
    {
     "data": {
      "image/png": "[encoded data removed]",
      "text/plain": [
       "<Figure size 640x480 with 1 Axes>"
      ]
     },
     "metadata": {},
     "output_type": "display_data"
    }
   ],
   "source": [
    "_, ax = plt.subplots()\n",
    "ax.set_title(f'RL method (Monte Carlo) on environment {bcst_env.name}')\n",
    "\n",
    "data = []\n",
    "for c1, c2, c3 in zip(r100_data, r200_data, r1000_data):\n",
    "  data.append([c1, c2, c3])\n",
    "\n",
    "df = pd.DataFrame(data=data, columns = ['MC (100)', 'MC (200)', 'MC (1000)'])\n",
    "\n",
    "sns.boxplot(data=df)"
   ]
  },
  {
   "cell_type": "code",
   "execution_count": 36,
   "id": "ee61a5a6-2583-40e8-ad4c-7557b1ea3e09",
   "metadata": {},
   "outputs": [
    {
     "name": "stdout",
     "output_type": "stream",
     "text": [
      "+-------+---------+----------------------------------------------------------+\n",
      "| Rank. | RL Name |                          Score                           |\n",
      "+-------+---------+----------------------------------------------------------+\n",
      "|   1   |   r100  | (100.2, [99, 92, 103, 102, 100, 104, 106, 94, 101, 101]) |\n",
      "|   2   |  r1000  |     (81.4, [83, 74, 70, 72, 86, 88, 87, 90, 86, 78])     |\n",
      "|   3   |   r200  |     (14.6, [14, 19, 16, 13, 10, 18, 13, 12, 10, 21])     |\n",
      "+-------+---------+----------------------------------------------------------+\n"
     ]
    }
   ],
   "source": [
    "sorted_scores = score_board.rank(\n",
    "    examiner=bcst_examiner, env=bcst_env,\n",
    "    rl_methods=[mc_alg_r100, mc_alg_r200, mc_alg_r1000],\n",
    "    show_ranking_in_console=True)"
   ]
  },
  {
   "cell_type": "markdown",
   "id": "fd3523d0-f01d-43b7-abf9-ea769a4faed9",
   "metadata": {},
   "source": [
    "### <font color='darkgreen'>BCST Advanced Epison Greedy</font>"
   ]
  },
  {
   "cell_type": "code",
   "execution_count": 37,
   "id": "3f5f78f3-44c1-43b7-99bb-eaa3307d69b2",
   "metadata": {},
   "outputs": [],
   "source": [
    "from skyline.alg import bcst_epsilon_tcs_rl\n",
    "\n",
    "bcst_tcs_alg = bcst_epsilon_tcs_rl.EGreedyStrategy(\n",
    "  delta= 0,  round_num=500)"
   ]
  },
  {
   "cell_type": "code",
   "execution_count": 38,
   "id": "1a3d0cb2-e04c-4e57-968f-049afe9787c4",
   "metadata": {},
   "outputs": [
    {
     "name": "stderr",
     "output_type": "stream",
     "text": [
      "100%|█████████████████████████████████████████████████████████████████████████████████████████████████████████████████| 500/500 [00:16<00:00, 29.91it/s]"
     ]
    },
    {
     "name": "stdout",
     "output_type": "stream",
     "text": [
      "CPU times: user 16.7 s, sys: 79 ms, total: 16.8 s\n",
      "Wall time: 16.7 s\n"
     ]
    },
    {
     "name": "stderr",
     "output_type": "stream",
     "text": [
      "\n"
     ]
    }
   ],
   "source": [
    "%%time\n",
    "bcst_tcs_alg.fit(bcst_env)"
   ]
  },
  {
   "cell_type": "code",
   "execution_count": 39,
   "id": "ab5e96f0-f510-4e3e-92b1-76d91a57dd77",
   "metadata": {},
   "outputs": [],
   "source": [
    "score, bcst_tcs_alg_data = bcst_examiner.score(bcst_tcs_alg, bcst_env, play_round=20)"
   ]
  },
  {
   "cell_type": "code",
   "execution_count": 40,
   "id": "934e48f6-5407-4973-9ca3-5440185e1380",
   "metadata": {},
   "outputs": [
    {
     "name": "stdout",
     "output_type": "stream",
     "text": [
      "+-------+-----------------+-------------------------------------------------------------+\n",
      "| Rank. |     RL Name     |                            Score                            |\n",
      "+-------+-----------------+-------------------------------------------------------------+\n",
      "|   1   | EGreedyStrategy | (175.4, [150, 141, 182, 186, 178, 193, 186, 182, 184, 172]) |\n",
      "|   2   |       r100      |      (98.2, [99, 96, 97, 98, 95, 94, 104, 99, 102, 98])     |\n",
      "|   3   |      r1000      |       (79.3, [79, 86, 85, 82, 72, 85, 75, 69, 80, 80])      |\n",
      "|   4   |       r200      |       (15.4, [16, 20, 13, 14, 14, 13, 13, 15, 17, 19])      |\n",
      "+-------+-----------------+-------------------------------------------------------------+\n"
     ]
    }
   ],
   "source": [
    "sorted_scores = score_board.rank(\n",
    "    examiner=bcst_examiner, env=bcst_env,\n",
    "    rl_methods=[mc_alg_r100, mc_alg_r200, mc_alg_r1000, bcst_tcs_alg], show_ranking_in_console=True)"
   ]
  },
  {
   "cell_type": "markdown",
   "id": "b6e8ae6b-f6c8-427b-905b-73ae41b3a4fe",
   "metadata": {},
   "source": [
    "### <font color='darkgreen'>Examiner for diversity</font>\n",
    "Examiner **<font color='blue'>BCSTRewardCountExaminer</font> focus on the quanity of Crash/Ramdump RL alg could catch. It may lead to a problem/concern if a specific Crash/Ramdump could always happen**. Then the RL will learn greedily to catch that specific Crash/Ramdump and pay less attention to other potential Crash/Ramdump which is obviously a blind point to our RL algs.\n",
    "\n",
    "So here we define another examiner <b><font color='blue'>BCSTRewardDiversityExaminer</font></b> which will take diversity of actions and kinds of reward into consideration when calculating the score. Let's give it a try below:"
   ]
  },
  {
   "cell_type": "code",
   "execution_count": 41,
   "id": "a8ab7476-1e5b-44e2-b058-934564bcbbb9",
   "metadata": {},
   "outputs": [],
   "source": [
    "bcst_div_examiner = bcst_tc_env.BCSTRewardDiversityExaminer()"
   ]
  },
  {
   "cell_type": "markdown",
   "id": "b9a53073-1dcd-444c-a5b5-5dd271236a27",
   "metadata": {},
   "source": [
    "Firstly, let's check our base line Monte Carlo method (Let's abbreviate it as **MC**):"
   ]
  },
  {
   "cell_type": "code",
   "execution_count": 42,
   "id": "519e6107-95b5-47d1-9ba3-aebfaaeb1810",
   "metadata": {},
   "outputs": [],
   "source": [
    "score, r1000_data, mc_collected_action_2_reward_info = bcst_div_examiner.score_with_action_2_reward_info(\n",
    "    mc_alg_r1000, bcst_env, play_round=200)"
   ]
  },
  {
   "cell_type": "code",
   "execution_count": 43,
   "id": "ec7d36d0-7fdf-471b-b0a1-dc6e87c903b5",
   "metadata": {},
   "outputs": [
    {
     "name": "stdout",
     "output_type": "stream",
     "text": [
      "Avg detected distinct paths: 6.26\n"
     ]
    }
   ],
   "source": [
    "mc_detected_path_with_reward_counts = list([len(record) for record in mc_collected_action_2_reward_info])\n",
    "avg_detected_paths = sum(mc_detected_path_with_reward_counts) / len(mc_detected_path_with_reward_counts)\n",
    "print(f'Avg detected distinct paths: {avg_detected_paths}')"
   ]
  },
  {
   "cell_type": "markdown",
   "id": "f2e7c3a1-263d-4f82-a934-9787ffdcaca5",
   "metadata": {},
   "source": [
    "Then is our champion <b><font color='blue'>EGreedyStrategy</font></b> (Let's abbreviate it as **EGS**):"
   ]
  },
  {
   "cell_type": "code",
   "execution_count": 44,
   "id": "c28ead87-6466-4fe6-a9dc-ec7dbb72bbc6",
   "metadata": {},
   "outputs": [],
   "source": [
    "bcst_tcs_alg = bcst_epsilon_tcs_rl.EGreedyStrategy(\n",
    "  eps=0.8, delta= 0,  round_num=500)\n",
    "\n",
    "score, eg_strategy_data, egs_collected_action_2_reward_info = bcst_div_examiner.score_with_action_2_reward_info(\n",
    "    bcst_tcs_alg, bcst_env, play_round=100)"
   ]
  },
  {
   "cell_type": "code",
   "execution_count": 45,
   "id": "63652821-e861-4e13-a387-0f89a59ec3dd",
   "metadata": {},
   "outputs": [
    {
     "name": "stdout",
     "output_type": "stream",
     "text": [
      "Avg detected distinct paths: 1.02\n"
     ]
    }
   ],
   "source": [
    "egs_detected_path_with_reward_counts = list([len(record) for record in egs_collected_action_2_reward_info])\n",
    "avg_detected_paths = sum(egs_detected_path_with_reward_counts) / len(egs_detected_path_with_reward_counts)\n",
    "print(f'Avg detected distinct paths: {avg_detected_paths}')"
   ]
  },
  {
   "cell_type": "code",
   "execution_count": 46,
   "id": "8a2c71b1-1549-4dce-9f8b-a69f26116dc7",
   "metadata": {},
   "outputs": [
    {
     "data": {
      "text/plain": [
       "<Axes: title={'center': 'EGS vs MC on environment BCST test case execution simulator'}>"
      ]
     },
     "execution_count": 46,
     "metadata": {},
     "output_type": "execute_result"
    },
    {
     "data": {
      "image/png": "[encoded data removed]",
      "text/plain": [
       "<Figure size 640x480 with 1 Axes>"
      ]
     },
     "metadata": {},
     "output_type": "display_data"
    }
   ],
   "source": [
    "_, ax = plt.subplots()\n",
    "ax.set_title(f'EGS vs MC on environment {bcst_env.name}')\n",
    "\n",
    "data = []\n",
    "for c1, c2 in zip(r1000_data, eg_strategy_data):\n",
    "  data.append([c1, c2])\n",
    "\n",
    "df = pd.DataFrame(data=data, columns = ['MC', 'EGS'])\n",
    "\n",
    "sns.boxplot(data=df)"
   ]
  },
  {
   "cell_type": "markdown",
   "id": "9aaccf8c-6470-4c63-8ce8-26b0705bc12b",
   "metadata": {},
   "source": [
    "From above, <b><font color='darkred'>we learned that **EGS** doesn't perform better than **MC**. What a surprise!</font>\n",
    "\n",
    "Now it is our time to know more about <b><font color='blue'>EGreedyStrategy</font></b> and see what parameters we could use to adjust it's behavior and tune the performance to favor diversity:"
   ]
  },
  {
   "cell_type": "code",
   "execution_count": 47,
   "id": "683e908a-e29d-4cbf-96a5-6dac133512f5",
   "metadata": {},
   "outputs": [
    {
     "name": "stdout",
     "output_type": "stream",
     "text": [
      "RL ε-Greedy Policy to select BCST test case.\n",
      "\n",
      "  Attributes:\n",
      "    eps: Epsilon value of ε-Greedy Policy. (default=0.3)\n",
      "    beta: Beta value to decide the shrinking rate of Epsilon value when the\n",
      "        round of test case selection grows. (default=0.1)\n",
      "    gamma: Gamma value to decide the proportion of impact from future execution\n",
      "        result. Larger this value, more influence granted from the future.\n",
      "    delta: Delta value to decide the proportion of adopting the sequences from\n",
      "        `pre_train_actions` if given.\n",
      "    round_num: Maximum rounds required in training. (default=0.7)\n",
      "    foremost_exploring_num: The fixed foremost number of test case selection set\n",
      "        for exploration. (default=50)\n",
      "    pre_train_actions: List of actions to select before the training.\n",
      "    debug_mode: True to turn on debugging mode to print more information.\n",
      "  \n"
     ]
    }
   ],
   "source": [
    "print(bcst_epsilon_tcs_rl.EGreedyStrategy.__doc__)"
   ]
  },
  {
   "cell_type": "markdown",
   "id": "5c55755b-30e1-46b8-a336-6a18b9678c30",
   "metadata": {},
   "source": [
    "Let's try a different settings than default values:"
   ]
  },
  {
   "cell_type": "code",
   "execution_count": 48,
   "id": "75c878ad-a09a-4219-bdbb-9b9f463d1945",
   "metadata": {},
   "outputs": [],
   "source": [
    "bcst_tcs_alg_v2 = bcst_epsilon_tcs_rl.EGreedyStrategy(\n",
    "    name='EGS v2', eps=0.2, beta=0, gama=0.4, delta= 0,\n",
    "    foremost_exploring_num=200)"
   ]
  },
  {
   "cell_type": "code",
   "execution_count": 49,
   "id": "388fe332-c4ae-40e1-a243-c6b31450ed8e",
   "metadata": {},
   "outputs": [
    {
     "name": "stderr",
     "output_type": "stream",
     "text": [
      "100%|███████████████████████████████████████████████████████████████████████████████████████████████████████████████| 1000/1000 [00:32<00:00, 30.60it/s]\n"
     ]
    }
   ],
   "source": [
    "bcst_tcs_alg_v2.fit(bcst_env)"
   ]
  },
  {
   "cell_type": "code",
   "execution_count": 50,
   "id": "c96373e8-d753-4d0f-b158-196be0869ef3",
   "metadata": {},
   "outputs": [],
   "source": [
    "score, eg_strategy_v2_data, egs_v2_collected_action_2_reward_info = bcst_div_examiner.score_with_action_2_reward_info(\n",
    "    bcst_tcs_alg_v2, bcst_env, play_round=100)"
   ]
  },
  {
   "cell_type": "code",
   "execution_count": 51,
   "id": "16eb3a03-c416-4703-a54b-c06fe3ac78aa",
   "metadata": {},
   "outputs": [
    {
     "name": "stdout",
     "output_type": "stream",
     "text": [
      "Avg detected distinct paths: 7.68\n"
     ]
    }
   ],
   "source": [
    "egs_detected_path_with_reward_counts = list([len(record) for record in egs_v2_collected_action_2_reward_info])\n",
    "avg_detected_paths = sum(egs_detected_path_with_reward_counts) / len(egs_detected_path_with_reward_counts)\n",
    "print(f'Avg detected distinct paths: {avg_detected_paths}')"
   ]
  },
  {
   "cell_type": "code",
   "execution_count": 52,
   "id": "3fe25b44-9eaa-4daf-b3bc-60b060c84da8",
   "metadata": {},
   "outputs": [
    {
     "data": {
      "text/plain": [
       "<Axes: title={'center': 'EGS vs MC on environment BCST test case execution simulator'}>"
      ]
     },
     "execution_count": 52,
     "metadata": {},
     "output_type": "execute_result"
    },
    {
     "data": {
      "image/png": "[encoded data removed]",
      "text/plain": [
       "<Figure size 640x480 with 1 Axes>"
      ]
     },
     "metadata": {},
     "output_type": "display_data"
    }
   ],
   "source": [
    "_, ax = plt.subplots()\n",
    "ax.set_title(f'EGS vs MC on environment {bcst_env.name}')\n",
    "\n",
    "data = []\n",
    "for c1, c2, c3 in zip(r1000_data, eg_strategy_data, eg_strategy_v2_data):\n",
    "  data.append([c1, c2, c3])\n",
    "\n",
    "df = pd.DataFrame(data=data, columns = ['MC', 'EGS', 'EGS v2'])\n",
    "\n",
    "sns.boxplot(data=df)"
   ]
  },
  {
   "cell_type": "code",
   "execution_count": 53,
   "id": "7beb0567-ec24-4e54-a65c-52440697b6e9",
   "metadata": {},
   "outputs": [
    {
     "name": "stdout",
     "output_type": "stream",
     "text": [
      "+-------+-----------------+-------------------------------------------------------------------------------+\n",
      "| Rank. |     RL Name     |                                     Score                                     |\n",
      "+-------+-----------------+-------------------------------------------------------------------------------+\n",
      "|   1   |      EGS v2     | (10.95, [10.55, 9.57, 11.56, 10.59, 10.6, 11.52, 11.34, 11.48, 10.51, 11.73]) |\n",
      "|   2   |      r1000      |      (8.15, [7.73, 7.83, 7.78, 7.74, 9.58, 8.8, 8.69, 6.87, 7.82, 8.69])      |\n",
      "|   3   | EGreedyStrategy |      (1.47, [1.38, 1.38, 2.31, 1.41, 1.38, 1.38, 1.39, 1.35, 1.28, 1.43])     |\n",
      "+-------+-----------------+-------------------------------------------------------------------------------+\n"
     ]
    }
   ],
   "source": [
    "sorted_scores = score_board.rank(\n",
    "    examiner=bcst_div_examiner, env=bcst_env,\n",
    "    rl_methods=[mc_alg_r1000, bcst_tcs_alg, bcst_tcs_alg_v2], show_ranking_in_console=True)"
   ]
  }
 ],
 "metadata": {
  "kernelspec": {
   "display_name": "Python 3 (ipykernel)",
   "language": "python",
   "name": "python3"
  },
  "language_info": {
   "codemirror_mode": {
    "name": "ipython",
    "version": 3
   },
   "file_extension": ".py",
   "mimetype": "text/x-python",
   "name": "python",
   "nbconvert_exporter": "python",
   "pygments_lexer": "ipython3",
   "version": "3.11.9"
  }
 },
 "nbformat": 4,
 "nbformat_minor": 5
}
